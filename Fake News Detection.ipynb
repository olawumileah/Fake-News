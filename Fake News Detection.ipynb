{
 "cells": [
  {
   "cell_type": "code",
   "execution_count": 1,
   "id": "5aece7e7",
   "metadata": {},
   "outputs": [
    {
     "name": "stderr",
     "output_type": "stream",
     "text": [
      "C:\\Users\\user\\anaconda3\\lib\\site-packages\\pandas\\core\\computation\\expressions.py:21: UserWarning: Pandas requires version '2.8.4' or newer of 'numexpr' (version '2.8.1' currently installed).\n",
      "  from pandas.core.computation.check import NUMEXPR_INSTALLED\n",
      "C:\\Users\\user\\anaconda3\\lib\\site-packages\\pandas\\core\\arrays\\masked.py:60: UserWarning: Pandas requires version '1.3.6' or newer of 'bottleneck' (version '1.3.4' currently installed).\n",
      "  from pandas.core import (\n"
     ]
    }
   ],
   "source": [
    "import pandas as pd\n",
    "import numpy as np\n",
    "import matplotlib.pyplot as plt\n",
    "%matplotlib inline\n",
    "import seaborn as sns\n",
    "import pickle\n",
    "\n",
    "from sklearn.model_selection import train_test_split\n",
    "from sklearn.ensemble import RandomForestClassifier\n",
    "from sklearn.metrics import classification_report\n",
    "from imblearn.over_sampling import SMOTE\n",
    "from tensorflow.keras.preprocessing.text import Tokenizer\n",
    "from tensorflow.keras.preprocessing.sequence import pad_sequences\n",
    "from tensorflow.keras.models import Model\n",
    "from tensorflow.keras.layers import Input, Embedding, LSTM, Conv1D, GlobalMaxPooling1D, Dense, Concatenate, Dropout\n",
    "from sklearn.metrics import classification_report, confusion_matrix, accuracy_score, precision_score, recall_score, f1_score\n",
    "import warnings\n",
    "warnings.filterwarnings('ignore')"
   ]
  },
  {
   "cell_type": "code",
   "execution_count": 2,
   "id": "6e145563",
   "metadata": {},
   "outputs": [
    {
     "data": {
      "text/html": [
       "<div>\n",
       "<style scoped>\n",
       "    .dataframe tbody tr th:only-of-type {\n",
       "        vertical-align: middle;\n",
       "    }\n",
       "\n",
       "    .dataframe tbody tr th {\n",
       "        vertical-align: top;\n",
       "    }\n",
       "\n",
       "    .dataframe thead th {\n",
       "        text-align: right;\n",
       "    }\n",
       "</style>\n",
       "<table border=\"1\" class=\"dataframe\">\n",
       "  <thead>\n",
       "    <tr style=\"text-align: right;\">\n",
       "      <th></th>\n",
       "      <th>id</th>\n",
       "      <th>news_url</th>\n",
       "      <th>title</th>\n",
       "      <th>tweet_ids</th>\n",
       "      <th>Type</th>\n",
       "    </tr>\n",
       "  </thead>\n",
       "  <tbody>\n",
       "    <tr>\n",
       "      <th>0</th>\n",
       "      <td>politifact14984</td>\n",
       "      <td>http://www.nfib-sbet.org/</td>\n",
       "      <td>National Federation of Independent Business</td>\n",
       "      <td>967132259869487105\\t967164368768196609\\t967215...</td>\n",
       "      <td>Real</td>\n",
       "    </tr>\n",
       "    <tr>\n",
       "      <th>1</th>\n",
       "      <td>politifact12944</td>\n",
       "      <td>http://www.cq.com/doc/newsmakertranscripts-494...</td>\n",
       "      <td>comments in Fayetteville NC</td>\n",
       "      <td>942953459\\t8980098198\\t16253717352\\t1668513250...</td>\n",
       "      <td>Real</td>\n",
       "    </tr>\n",
       "    <tr>\n",
       "      <th>2</th>\n",
       "      <td>politifact333</td>\n",
       "      <td>https://web.archive.org/web/20080204072132/htt...</td>\n",
       "      <td>Romney makes pitch, hoping to close deal : Ele...</td>\n",
       "      <td>NaN</td>\n",
       "      <td>Real</td>\n",
       "    </tr>\n",
       "    <tr>\n",
       "      <th>3</th>\n",
       "      <td>politifact4358</td>\n",
       "      <td>https://web.archive.org/web/20110811143753/htt...</td>\n",
       "      <td>Democratic Leaders Say House Democrats Are Uni...</td>\n",
       "      <td>NaN</td>\n",
       "      <td>Real</td>\n",
       "    </tr>\n",
       "    <tr>\n",
       "      <th>4</th>\n",
       "      <td>politifact779</td>\n",
       "      <td>https://web.archive.org/web/20070820164107/htt...</td>\n",
       "      <td>Budget of the United States Government, FY 2008</td>\n",
       "      <td>89804710374154240\\t91270460595109888\\t96039619...</td>\n",
       "      <td>Real</td>\n",
       "    </tr>\n",
       "  </tbody>\n",
       "</table>\n",
       "</div>"
      ],
      "text/plain": [
       "                id                                           news_url  \\\n",
       "0  politifact14984                          http://www.nfib-sbet.org/   \n",
       "1  politifact12944  http://www.cq.com/doc/newsmakertranscripts-494...   \n",
       "2    politifact333  https://web.archive.org/web/20080204072132/htt...   \n",
       "3   politifact4358  https://web.archive.org/web/20110811143753/htt...   \n",
       "4    politifact779  https://web.archive.org/web/20070820164107/htt...   \n",
       "\n",
       "                                               title  \\\n",
       "0        National Federation of Independent Business   \n",
       "1                        comments in Fayetteville NC   \n",
       "2  Romney makes pitch, hoping to close deal : Ele...   \n",
       "3  Democratic Leaders Say House Democrats Are Uni...   \n",
       "4    Budget of the United States Government, FY 2008   \n",
       "\n",
       "                                           tweet_ids  Type  \n",
       "0  967132259869487105\\t967164368768196609\\t967215...  Real  \n",
       "1  942953459\\t8980098198\\t16253717352\\t1668513250...  Real  \n",
       "2                                                NaN  Real  \n",
       "3                                                NaN  Real  \n",
       "4  89804710374154240\\t91270460595109888\\t96039619...  Real  "
      ]
     },
     "execution_count": 2,
     "metadata": {},
     "output_type": "execute_result"
    }
   ],
   "source": [
    "# Load the first dataset\n",
    "real_news = pd.read_csv('politifact_real.csv')\n",
    "\n",
    "#creating a new column Type\n",
    "real_news['Type'] = 'Real'\n",
    "\n",
    "real_news.head()"
   ]
  },
  {
   "cell_type": "code",
   "execution_count": 3,
   "id": "08d14930",
   "metadata": {},
   "outputs": [
    {
     "data": {
      "text/html": [
       "<div>\n",
       "<style scoped>\n",
       "    .dataframe tbody tr th:only-of-type {\n",
       "        vertical-align: middle;\n",
       "    }\n",
       "\n",
       "    .dataframe tbody tr th {\n",
       "        vertical-align: top;\n",
       "    }\n",
       "\n",
       "    .dataframe thead th {\n",
       "        text-align: right;\n",
       "    }\n",
       "</style>\n",
       "<table border=\"1\" class=\"dataframe\">\n",
       "  <thead>\n",
       "    <tr style=\"text-align: right;\">\n",
       "      <th></th>\n",
       "      <th>id</th>\n",
       "      <th>news_url</th>\n",
       "      <th>title</th>\n",
       "      <th>tweet_ids</th>\n",
       "      <th>Type</th>\n",
       "    </tr>\n",
       "  </thead>\n",
       "  <tbody>\n",
       "    <tr>\n",
       "      <th>0</th>\n",
       "      <td>politifact15014</td>\n",
       "      <td>speedtalk.com/forum/viewtopic.php?t=51650</td>\n",
       "      <td>BREAKING: First NFL Team Declares Bankruptcy O...</td>\n",
       "      <td>937349434668498944\\t937379378006282240\\t937380...</td>\n",
       "      <td>Fake</td>\n",
       "    </tr>\n",
       "    <tr>\n",
       "      <th>1</th>\n",
       "      <td>politifact15156</td>\n",
       "      <td>politics2020.info/index.php/2018/03/13/court-o...</td>\n",
       "      <td>Court Orders Obama To Pay $400 Million In Rest...</td>\n",
       "      <td>972666281441878016\\t972678396575559680\\t972827...</td>\n",
       "      <td>Fake</td>\n",
       "    </tr>\n",
       "    <tr>\n",
       "      <th>2</th>\n",
       "      <td>politifact14745</td>\n",
       "      <td>www.nscdscamps.org/blog/category/parenting/467...</td>\n",
       "      <td>UPDATE: Second Roy Moore Accuser Works For Mic...</td>\n",
       "      <td>929405740732870656\\t929439450400264192\\t929439...</td>\n",
       "      <td>Fake</td>\n",
       "    </tr>\n",
       "    <tr>\n",
       "      <th>3</th>\n",
       "      <td>politifact14355</td>\n",
       "      <td>https://howafrica.com/oscar-pistorius-attempts...</td>\n",
       "      <td>Oscar Pistorius Attempts To Commit Suicide</td>\n",
       "      <td>886941526458347521\\t887011300278194176\\t887023...</td>\n",
       "      <td>Fake</td>\n",
       "    </tr>\n",
       "    <tr>\n",
       "      <th>4</th>\n",
       "      <td>politifact15371</td>\n",
       "      <td>http://washingtonsources.org/trump-votes-for-d...</td>\n",
       "      <td>Trump Votes For Death Penalty For Being Gay</td>\n",
       "      <td>915205698212040704\\t915242076681506816\\t915249...</td>\n",
       "      <td>Fake</td>\n",
       "    </tr>\n",
       "  </tbody>\n",
       "</table>\n",
       "</div>"
      ],
      "text/plain": [
       "                id                                           news_url  \\\n",
       "0  politifact15014          speedtalk.com/forum/viewtopic.php?t=51650   \n",
       "1  politifact15156  politics2020.info/index.php/2018/03/13/court-o...   \n",
       "2  politifact14745  www.nscdscamps.org/blog/category/parenting/467...   \n",
       "3  politifact14355  https://howafrica.com/oscar-pistorius-attempts...   \n",
       "4  politifact15371  http://washingtonsources.org/trump-votes-for-d...   \n",
       "\n",
       "                                               title  \\\n",
       "0  BREAKING: First NFL Team Declares Bankruptcy O...   \n",
       "1  Court Orders Obama To Pay $400 Million In Rest...   \n",
       "2  UPDATE: Second Roy Moore Accuser Works For Mic...   \n",
       "3         Oscar Pistorius Attempts To Commit Suicide   \n",
       "4        Trump Votes For Death Penalty For Being Gay   \n",
       "\n",
       "                                           tweet_ids  Type  \n",
       "0  937349434668498944\\t937379378006282240\\t937380...  Fake  \n",
       "1  972666281441878016\\t972678396575559680\\t972827...  Fake  \n",
       "2  929405740732870656\\t929439450400264192\\t929439...  Fake  \n",
       "3  886941526458347521\\t887011300278194176\\t887023...  Fake  \n",
       "4  915205698212040704\\t915242076681506816\\t915249...  Fake  "
      ]
     },
     "execution_count": 3,
     "metadata": {},
     "output_type": "execute_result"
    }
   ],
   "source": [
    "# Load the first dataset\n",
    "fake_news = pd.read_csv('politifact_fake.csv')\n",
    "\n",
    "#creating a new column Type\n",
    "fake_news['Type'] = 'Fake'\n",
    "\n",
    "fake_news.head()"
   ]
  },
  {
   "cell_type": "code",
   "execution_count": 4,
   "id": "75876d6b",
   "metadata": {},
   "outputs": [
    {
     "data": {
      "text/html": [
       "<div>\n",
       "<style scoped>\n",
       "    .dataframe tbody tr th:only-of-type {\n",
       "        vertical-align: middle;\n",
       "    }\n",
       "\n",
       "    .dataframe tbody tr th {\n",
       "        vertical-align: top;\n",
       "    }\n",
       "\n",
       "    .dataframe thead th {\n",
       "        text-align: right;\n",
       "    }\n",
       "</style>\n",
       "<table border=\"1\" class=\"dataframe\">\n",
       "  <thead>\n",
       "    <tr style=\"text-align: right;\">\n",
       "      <th></th>\n",
       "      <th>id</th>\n",
       "      <th>news_url</th>\n",
       "      <th>title</th>\n",
       "      <th>tweet_ids</th>\n",
       "      <th>Type</th>\n",
       "    </tr>\n",
       "  </thead>\n",
       "  <tbody>\n",
       "    <tr>\n",
       "      <th>0</th>\n",
       "      <td>politifact100</td>\n",
       "      <td>http://thomas.loc.gov/cgi-bin/bdquery/z?d103:H...</td>\n",
       "      <td>H.R.1025 - 103rd Congress (1993-1994): Brady H...</td>\n",
       "      <td>133032062784503808\\t133181989758050305\\t133332...</td>\n",
       "      <td>Real</td>\n",
       "    </tr>\n",
       "    <tr>\n",
       "      <th>1</th>\n",
       "      <td>politifact1013</td>\n",
       "      <td>http://www.senate.gov/legislative/LIS/roll_cal...</td>\n",
       "      <td>U.S. Senate: U.S. Senate Roll Call Votes 111th...</td>\n",
       "      <td>NaN</td>\n",
       "      <td>Real</td>\n",
       "    </tr>\n",
       "    <tr>\n",
       "      <th>2</th>\n",
       "      <td>politifact1014</td>\n",
       "      <td>http://www.politico.com/news/stories/0509/2241...</td>\n",
       "      <td>Trump on Prejean: Same as Obama</td>\n",
       "      <td>1775216045\\t1782107126\\t201096853821997058</td>\n",
       "      <td>Real</td>\n",
       "    </tr>\n",
       "    <tr>\n",
       "      <th>3</th>\n",
       "      <td>politifact10185</td>\n",
       "      <td>http://www.politico.com/magazine/story/2014/10...</td>\n",
       "      <td>If Democrats Lose, Blame These Guys</td>\n",
       "      <td>29528333439\\t193887286084120577\\t2569398917478...</td>\n",
       "      <td>Real</td>\n",
       "    </tr>\n",
       "    <tr>\n",
       "      <th>4</th>\n",
       "      <td>politifact1019</td>\n",
       "      <td>NaN</td>\n",
       "      <td>Financial Rescue Nears GDP as Pledges Top 128 ...</td>\n",
       "      <td>NaN</td>\n",
       "      <td>Real</td>\n",
       "    </tr>\n",
       "  </tbody>\n",
       "</table>\n",
       "</div>"
      ],
      "text/plain": [
       "                id                                           news_url  \\\n",
       "0    politifact100  http://thomas.loc.gov/cgi-bin/bdquery/z?d103:H...   \n",
       "1   politifact1013  http://www.senate.gov/legislative/LIS/roll_cal...   \n",
       "2   politifact1014  http://www.politico.com/news/stories/0509/2241...   \n",
       "3  politifact10185  http://www.politico.com/magazine/story/2014/10...   \n",
       "4   politifact1019                                                NaN   \n",
       "\n",
       "                                               title  \\\n",
       "0  H.R.1025 - 103rd Congress (1993-1994): Brady H...   \n",
       "1  U.S. Senate: U.S. Senate Roll Call Votes 111th...   \n",
       "2                    Trump on Prejean: Same as Obama   \n",
       "3                If Democrats Lose, Blame These Guys   \n",
       "4  Financial Rescue Nears GDP as Pledges Top 128 ...   \n",
       "\n",
       "                                           tweet_ids  Type  \n",
       "0  133032062784503808\\t133181989758050305\\t133332...  Real  \n",
       "1                                                NaN  Real  \n",
       "2         1775216045\\t1782107126\\t201096853821997058  Real  \n",
       "3  29528333439\\t193887286084120577\\t2569398917478...  Real  \n",
       "4                                                NaN  Real  "
      ]
     },
     "execution_count": 4,
     "metadata": {},
     "output_type": "execute_result"
    }
   ],
   "source": [
    "#merge the fake and real news together\n",
    "data = pd.merge(real_news, fake_news, how= 'outer')\n",
    "data.to_csv('WINE.csv, index=False')\n",
    "\n",
    "# Display the first few rows of the dataframe\n",
    "data.head()"
   ]
  },
  {
   "cell_type": "code",
   "execution_count": 5,
   "id": "34a9139f",
   "metadata": {},
   "outputs": [
    {
     "data": {
      "text/plain": [
       "(1056, 5)"
      ]
     },
     "execution_count": 5,
     "metadata": {},
     "output_type": "execute_result"
    }
   ],
   "source": [
    "#checking for the shape od the dataset\n",
    "data.shape"
   ]
  },
  {
   "cell_type": "code",
   "execution_count": 6,
   "id": "3f442fef",
   "metadata": {},
   "outputs": [
    {
     "name": "stdout",
     "output_type": "stream",
     "text": [
      "<class 'pandas.core.frame.DataFrame'>\n",
      "RangeIndex: 1056 entries, 0 to 1055\n",
      "Data columns (total 5 columns):\n",
      " #   Column     Non-Null Count  Dtype \n",
      "---  ------     --------------  ----- \n",
      " 0   id         1056 non-null   object\n",
      " 1   news_url   995 non-null    object\n",
      " 2   title      1056 non-null   object\n",
      " 3   tweet_ids  801 non-null    object\n",
      " 4   Type       1056 non-null   object\n",
      "dtypes: object(5)\n",
      "memory usage: 41.4+ KB\n"
     ]
    }
   ],
   "source": [
    "# Display the information about the dataframe\n",
    "data.info()"
   ]
  },
  {
   "cell_type": "code",
   "execution_count": 7,
   "id": "f3816681",
   "metadata": {},
   "outputs": [
    {
     "data": {
      "text/plain": [
       "id           object\n",
       "news_url     object\n",
       "title        object\n",
       "tweet_ids    object\n",
       "Type         object\n",
       "dtype: object"
      ]
     },
     "execution_count": 7,
     "metadata": {},
     "output_type": "execute_result"
    }
   ],
   "source": [
    "#check the dtypes\n",
    "\n",
    "data.dtypes"
   ]
  },
  {
   "cell_type": "code",
   "execution_count": 8,
   "id": "42c55788",
   "metadata": {},
   "outputs": [
    {
     "data": {
      "text/plain": [
       "id             0\n",
       "news_url      61\n",
       "title          0\n",
       "tweet_ids    255\n",
       "Type           0\n",
       "dtype: int64"
      ]
     },
     "execution_count": 8,
     "metadata": {},
     "output_type": "execute_result"
    }
   ],
   "source": [
    "#checking for the missing values\n",
    "\n",
    "data.isnull().sum()"
   ]
  },
  {
   "cell_type": "code",
   "execution_count": 9,
   "id": "3f6d8980",
   "metadata": {},
   "outputs": [],
   "source": [
    "#replacing missing value in news_url with mode\n",
    "\n",
    "mode_value = data['news_url'].mode()[0]\n",
    "data['news_url'].fillna(mode_value, inplace=True)"
   ]
  },
  {
   "cell_type": "code",
   "execution_count": 10,
   "id": "3081f8e1",
   "metadata": {},
   "outputs": [],
   "source": [
    "#replacing missing value in news_url with mode\n",
    "\n",
    "mode_value = data['tweet_ids'].mode()[0]\n",
    "data['tweet_ids'].fillna(mode_value, inplace=True)"
   ]
  },
  {
   "cell_type": "code",
   "execution_count": 11,
   "id": "caa5cfa3",
   "metadata": {},
   "outputs": [
    {
     "data": {
      "text/plain": [
       "id           0\n",
       "news_url     0\n",
       "title        0\n",
       "tweet_ids    0\n",
       "Type         0\n",
       "dtype: int64"
      ]
     },
     "execution_count": 11,
     "metadata": {},
     "output_type": "execute_result"
    }
   ],
   "source": [
    "#confirming if the missing value has been handled \n",
    "\n",
    "data.isnull().sum()"
   ]
  },
  {
   "cell_type": "code",
   "execution_count": 12,
   "id": "7ac22505",
   "metadata": {},
   "outputs": [
    {
     "data": {
      "text/html": [
       "<div>\n",
       "<style scoped>\n",
       "    .dataframe tbody tr th:only-of-type {\n",
       "        vertical-align: middle;\n",
       "    }\n",
       "\n",
       "    .dataframe tbody tr th {\n",
       "        vertical-align: top;\n",
       "    }\n",
       "\n",
       "    .dataframe thead th {\n",
       "        text-align: right;\n",
       "    }\n",
       "</style>\n",
       "<table border=\"1\" class=\"dataframe\">\n",
       "  <thead>\n",
       "    <tr style=\"text-align: right;\">\n",
       "      <th></th>\n",
       "      <th>id</th>\n",
       "      <th>news_url</th>\n",
       "      <th>title</th>\n",
       "      <th>tweet_ids</th>\n",
       "      <th>Type</th>\n",
       "    </tr>\n",
       "  </thead>\n",
       "  <tbody>\n",
       "    <tr>\n",
       "      <th>0</th>\n",
       "      <td>politifact100</td>\n",
       "      <td>http://thomas.loc.gov/cgi-bin/bdquery/z?d103:H...</td>\n",
       "      <td>H.R.1025 - 103rd Congress (1993-1994): Brady H...</td>\n",
       "      <td>133032062784503808\\t133181989758050305\\t133332...</td>\n",
       "      <td>0</td>\n",
       "    </tr>\n",
       "    <tr>\n",
       "      <th>1</th>\n",
       "      <td>politifact1013</td>\n",
       "      <td>http://www.senate.gov/legislative/LIS/roll_cal...</td>\n",
       "      <td>U.S. Senate: U.S. Senate Roll Call Votes 111th...</td>\n",
       "      <td>1019328994607550465\\t1019329029470674947\\t1019...</td>\n",
       "      <td>0</td>\n",
       "    </tr>\n",
       "    <tr>\n",
       "      <th>2</th>\n",
       "      <td>politifact1014</td>\n",
       "      <td>http://www.politico.com/news/stories/0509/2241...</td>\n",
       "      <td>Trump on Prejean: Same as Obama</td>\n",
       "      <td>1775216045\\t1782107126\\t201096853821997058</td>\n",
       "      <td>0</td>\n",
       "    </tr>\n",
       "    <tr>\n",
       "      <th>3</th>\n",
       "      <td>politifact10185</td>\n",
       "      <td>http://www.politico.com/magazine/story/2014/10...</td>\n",
       "      <td>If Democrats Lose, Blame These Guys</td>\n",
       "      <td>29528333439\\t193887286084120577\\t2569398917478...</td>\n",
       "      <td>0</td>\n",
       "    </tr>\n",
       "    <tr>\n",
       "      <th>4</th>\n",
       "      <td>politifact1019</td>\n",
       "      <td>https://web.archive.org/web/20050322064340/htt...</td>\n",
       "      <td>Financial Rescue Nears GDP as Pledges Top 128 ...</td>\n",
       "      <td>1019328994607550465\\t1019329029470674947\\t1019...</td>\n",
       "      <td>0</td>\n",
       "    </tr>\n",
       "    <tr>\n",
       "      <th>...</th>\n",
       "      <td>...</td>\n",
       "      <td>...</td>\n",
       "      <td>...</td>\n",
       "      <td>...</td>\n",
       "      <td>...</td>\n",
       "    </tr>\n",
       "    <tr>\n",
       "      <th>1051</th>\n",
       "      <td>politifact986</td>\n",
       "      <td>http://www.nytimes.com/2008/09/21/business/21c...</td>\n",
       "      <td>Administration Is Seeking $700 Billion for Wal...</td>\n",
       "      <td>928577975\\t928578407\\t928598527\\t928673431\\t92...</td>\n",
       "      <td>0</td>\n",
       "    </tr>\n",
       "    <tr>\n",
       "      <th>1052</th>\n",
       "      <td>politifact99</td>\n",
       "      <td>http://www.msnbc.msn.com/id/3080247/</td>\n",
       "      <td>Outlook, Office, Skype, Bing, Breaking News, a...</td>\n",
       "      <td>785926851365449729\\t785965742491525122\\t786176...</td>\n",
       "      <td>0</td>\n",
       "    </tr>\n",
       "    <tr>\n",
       "      <th>1053</th>\n",
       "      <td>politifact997</td>\n",
       "      <td>http://www.defenselink.mil/pubs/pdfs/Measuring...</td>\n",
       "      <td>United States Department of Defense</td>\n",
       "      <td>1431024591\\t790845602372395008\\t79084937195280...</td>\n",
       "      <td>0</td>\n",
       "    </tr>\n",
       "    <tr>\n",
       "      <th>1054</th>\n",
       "      <td>politifact998</td>\n",
       "      <td>https://web.archive.org/web/20090425195727/htt...</td>\n",
       "      <td>Debt Day: A Symbol of Washington’s Arrogant Cu...</td>\n",
       "      <td>1019328994607550465\\t1019329029470674947\\t1019...</td>\n",
       "      <td>0</td>\n",
       "    </tr>\n",
       "    <tr>\n",
       "      <th>1055</th>\n",
       "      <td>politifact999</td>\n",
       "      <td>http://www.cdc.gov/flu/protect/habits.htm?s_ci...</td>\n",
       "      <td>Preventing the Flu: Good Health Habits Can Hel...</td>\n",
       "      <td>1019328994607550465\\t1019329029470674947\\t1019...</td>\n",
       "      <td>0</td>\n",
       "    </tr>\n",
       "  </tbody>\n",
       "</table>\n",
       "<p>1056 rows × 5 columns</p>\n",
       "</div>"
      ],
      "text/plain": [
       "                   id                                           news_url  \\\n",
       "0       politifact100  http://thomas.loc.gov/cgi-bin/bdquery/z?d103:H...   \n",
       "1      politifact1013  http://www.senate.gov/legislative/LIS/roll_cal...   \n",
       "2      politifact1014  http://www.politico.com/news/stories/0509/2241...   \n",
       "3     politifact10185  http://www.politico.com/magazine/story/2014/10...   \n",
       "4      politifact1019  https://web.archive.org/web/20050322064340/htt...   \n",
       "...               ...                                                ...   \n",
       "1051    politifact986  http://www.nytimes.com/2008/09/21/business/21c...   \n",
       "1052     politifact99               http://www.msnbc.msn.com/id/3080247/   \n",
       "1053    politifact997  http://www.defenselink.mil/pubs/pdfs/Measuring...   \n",
       "1054    politifact998  https://web.archive.org/web/20090425195727/htt...   \n",
       "1055    politifact999  http://www.cdc.gov/flu/protect/habits.htm?s_ci...   \n",
       "\n",
       "                                                  title  \\\n",
       "0     H.R.1025 - 103rd Congress (1993-1994): Brady H...   \n",
       "1     U.S. Senate: U.S. Senate Roll Call Votes 111th...   \n",
       "2                       Trump on Prejean: Same as Obama   \n",
       "3                   If Democrats Lose, Blame These Guys   \n",
       "4     Financial Rescue Nears GDP as Pledges Top 128 ...   \n",
       "...                                                 ...   \n",
       "1051  Administration Is Seeking $700 Billion for Wal...   \n",
       "1052  Outlook, Office, Skype, Bing, Breaking News, a...   \n",
       "1053                United States Department of Defense   \n",
       "1054  Debt Day: A Symbol of Washington’s Arrogant Cu...   \n",
       "1055  Preventing the Flu: Good Health Habits Can Hel...   \n",
       "\n",
       "                                              tweet_ids  Type  \n",
       "0     133032062784503808\\t133181989758050305\\t133332...     0  \n",
       "1     1019328994607550465\\t1019329029470674947\\t1019...     0  \n",
       "2            1775216045\\t1782107126\\t201096853821997058     0  \n",
       "3     29528333439\\t193887286084120577\\t2569398917478...     0  \n",
       "4     1019328994607550465\\t1019329029470674947\\t1019...     0  \n",
       "...                                                 ...   ...  \n",
       "1051  928577975\\t928578407\\t928598527\\t928673431\\t92...     0  \n",
       "1052  785926851365449729\\t785965742491525122\\t786176...     0  \n",
       "1053  1431024591\\t790845602372395008\\t79084937195280...     0  \n",
       "1054  1019328994607550465\\t1019329029470674947\\t1019...     0  \n",
       "1055  1019328994607550465\\t1019329029470674947\\t1019...     0  \n",
       "\n",
       "[1056 rows x 5 columns]"
      ]
     },
     "execution_count": 12,
     "metadata": {},
     "output_type": "execute_result"
    }
   ],
   "source": [
    "#replacing Type column to a numeric value, representing real_news with 0 and fake new with 1\n",
    "data['Type'] = data['Type'].replace({'Real': 0, 'Fake':1})\n",
    "\n",
    "data"
   ]
  },
  {
   "cell_type": "code",
   "execution_count": 13,
   "id": "27149b2d",
   "metadata": {},
   "outputs": [
    {
     "data": {
      "text/plain": [
       "0"
      ]
     },
     "execution_count": 13,
     "metadata": {},
     "output_type": "execute_result"
    }
   ],
   "source": [
    "#check for duplicte values\n",
    "\n",
    "data.duplicated().sum()"
   ]
  },
  {
   "cell_type": "code",
   "execution_count": 14,
   "id": "aa1f2ef5",
   "metadata": {},
   "outputs": [
    {
     "data": {
      "text/html": [
       "<div>\n",
       "<style scoped>\n",
       "    .dataframe tbody tr th:only-of-type {\n",
       "        vertical-align: middle;\n",
       "    }\n",
       "\n",
       "    .dataframe tbody tr th {\n",
       "        vertical-align: top;\n",
       "    }\n",
       "\n",
       "    .dataframe thead th {\n",
       "        text-align: right;\n",
       "    }\n",
       "</style>\n",
       "<table border=\"1\" class=\"dataframe\">\n",
       "  <thead>\n",
       "    <tr style=\"text-align: right;\">\n",
       "      <th></th>\n",
       "      <th>id</th>\n",
       "      <th>news_url</th>\n",
       "      <th>title</th>\n",
       "      <th>tweet_ids</th>\n",
       "      <th>Type</th>\n",
       "    </tr>\n",
       "  </thead>\n",
       "  <tbody>\n",
       "    <tr>\n",
       "      <th>0</th>\n",
       "      <td>politifact100</td>\n",
       "      <td>http://thomas.loc.gov/cgi-bin/bdquery/z?d103:H...</td>\n",
       "      <td>h.r.1025 - 103rd congress (1993-1994): brady h...</td>\n",
       "      <td>133032062784503808\\t133181989758050305\\t133332...</td>\n",
       "      <td>0</td>\n",
       "    </tr>\n",
       "    <tr>\n",
       "      <th>1</th>\n",
       "      <td>politifact1013</td>\n",
       "      <td>http://www.senate.gov/legislative/LIS/roll_cal...</td>\n",
       "      <td>u.s. senate: u.s. senate roll call votes 111th...</td>\n",
       "      <td>1019328994607550465\\t1019329029470674947\\t1019...</td>\n",
       "      <td>0</td>\n",
       "    </tr>\n",
       "    <tr>\n",
       "      <th>2</th>\n",
       "      <td>politifact1014</td>\n",
       "      <td>http://www.politico.com/news/stories/0509/2241...</td>\n",
       "      <td>trump on prejean: same as obama</td>\n",
       "      <td>1775216045\\t1782107126\\t201096853821997058</td>\n",
       "      <td>0</td>\n",
       "    </tr>\n",
       "    <tr>\n",
       "      <th>3</th>\n",
       "      <td>politifact10185</td>\n",
       "      <td>http://www.politico.com/magazine/story/2014/10...</td>\n",
       "      <td>if democrats lose, blame these guys</td>\n",
       "      <td>29528333439\\t193887286084120577\\t2569398917478...</td>\n",
       "      <td>0</td>\n",
       "    </tr>\n",
       "    <tr>\n",
       "      <th>4</th>\n",
       "      <td>politifact1019</td>\n",
       "      <td>https://web.archive.org/web/20050322064340/htt...</td>\n",
       "      <td>financial rescue nears gdp as pledges top 128 ...</td>\n",
       "      <td>1019328994607550465\\t1019329029470674947\\t1019...</td>\n",
       "      <td>0</td>\n",
       "    </tr>\n",
       "  </tbody>\n",
       "</table>\n",
       "</div>"
      ],
      "text/plain": [
       "                id                                           news_url  \\\n",
       "0    politifact100  http://thomas.loc.gov/cgi-bin/bdquery/z?d103:H...   \n",
       "1   politifact1013  http://www.senate.gov/legislative/LIS/roll_cal...   \n",
       "2   politifact1014  http://www.politico.com/news/stories/0509/2241...   \n",
       "3  politifact10185  http://www.politico.com/magazine/story/2014/10...   \n",
       "4   politifact1019  https://web.archive.org/web/20050322064340/htt...   \n",
       "\n",
       "                                               title  \\\n",
       "0  h.r.1025 - 103rd congress (1993-1994): brady h...   \n",
       "1  u.s. senate: u.s. senate roll call votes 111th...   \n",
       "2                    trump on prejean: same as obama   \n",
       "3                if democrats lose, blame these guys   \n",
       "4  financial rescue nears gdp as pledges top 128 ...   \n",
       "\n",
       "                                           tweet_ids  Type  \n",
       "0  133032062784503808\\t133181989758050305\\t133332...     0  \n",
       "1  1019328994607550465\\t1019329029470674947\\t1019...     0  \n",
       "2         1775216045\\t1782107126\\t201096853821997058     0  \n",
       "3  29528333439\\t193887286084120577\\t2569398917478...     0  \n",
       "4  1019328994607550465\\t1019329029470674947\\t1019...     0  "
      ]
     },
     "execution_count": 14,
     "metadata": {},
     "output_type": "execute_result"
    }
   ],
   "source": [
    "# Convert to lowercase\n",
    "\n",
    "data['title'] = data['title'].apply(lambda x: x.lower())\n",
    "data.head()"
   ]
  },
  {
   "cell_type": "code",
   "execution_count": 15,
   "id": "2319d359",
   "metadata": {},
   "outputs": [],
   "source": [
    "# Remove punctuation\n",
    "\n",
    "import string\n",
    "\n",
    "def punctuation_removal(title):\n",
    "    all_list = [char for char in title if char not in string.punctuation]\n",
    "    clean_str = ''.join(all_list)\n",
    "    return clean_str\n",
    "\n",
    "data['title'] = data['title'].apply(punctuation_removal)"
   ]
  },
  {
   "cell_type": "code",
   "execution_count": 16,
   "id": "5684eca5",
   "metadata": {},
   "outputs": [
    {
     "data": {
      "text/html": [
       "<div>\n",
       "<style scoped>\n",
       "    .dataframe tbody tr th:only-of-type {\n",
       "        vertical-align: middle;\n",
       "    }\n",
       "\n",
       "    .dataframe tbody tr th {\n",
       "        vertical-align: top;\n",
       "    }\n",
       "\n",
       "    .dataframe thead th {\n",
       "        text-align: right;\n",
       "    }\n",
       "</style>\n",
       "<table border=\"1\" class=\"dataframe\">\n",
       "  <thead>\n",
       "    <tr style=\"text-align: right;\">\n",
       "      <th></th>\n",
       "      <th>id</th>\n",
       "      <th>news_url</th>\n",
       "      <th>title</th>\n",
       "      <th>tweet_ids</th>\n",
       "      <th>Type</th>\n",
       "    </tr>\n",
       "  </thead>\n",
       "  <tbody>\n",
       "    <tr>\n",
       "      <th>0</th>\n",
       "      <td>politifact100</td>\n",
       "      <td>http://thomas.loc.gov/cgi-bin/bdquery/z?d103:H...</td>\n",
       "      <td>hr1025  103rd congress 19931994 brady handgun ...</td>\n",
       "      <td>133032062784503808\\t133181989758050305\\t133332...</td>\n",
       "      <td>0</td>\n",
       "    </tr>\n",
       "    <tr>\n",
       "      <th>1</th>\n",
       "      <td>politifact1013</td>\n",
       "      <td>http://www.senate.gov/legislative/LIS/roll_cal...</td>\n",
       "      <td>us senate us senate roll call votes 111th cong...</td>\n",
       "      <td>1019328994607550465\\t1019329029470674947\\t1019...</td>\n",
       "      <td>0</td>\n",
       "    </tr>\n",
       "    <tr>\n",
       "      <th>2</th>\n",
       "      <td>politifact1014</td>\n",
       "      <td>http://www.politico.com/news/stories/0509/2241...</td>\n",
       "      <td>trump on prejean same as obama</td>\n",
       "      <td>1775216045\\t1782107126\\t201096853821997058</td>\n",
       "      <td>0</td>\n",
       "    </tr>\n",
       "    <tr>\n",
       "      <th>3</th>\n",
       "      <td>politifact10185</td>\n",
       "      <td>http://www.politico.com/magazine/story/2014/10...</td>\n",
       "      <td>if democrats lose blame these guys</td>\n",
       "      <td>29528333439\\t193887286084120577\\t2569398917478...</td>\n",
       "      <td>0</td>\n",
       "    </tr>\n",
       "    <tr>\n",
       "      <th>4</th>\n",
       "      <td>politifact1019</td>\n",
       "      <td>https://web.archive.org/web/20050322064340/htt...</td>\n",
       "      <td>financial rescue nears gdp as pledges top 128 ...</td>\n",
       "      <td>1019328994607550465\\t1019329029470674947\\t1019...</td>\n",
       "      <td>0</td>\n",
       "    </tr>\n",
       "  </tbody>\n",
       "</table>\n",
       "</div>"
      ],
      "text/plain": [
       "                id                                           news_url  \\\n",
       "0    politifact100  http://thomas.loc.gov/cgi-bin/bdquery/z?d103:H...   \n",
       "1   politifact1013  http://www.senate.gov/legislative/LIS/roll_cal...   \n",
       "2   politifact1014  http://www.politico.com/news/stories/0509/2241...   \n",
       "3  politifact10185  http://www.politico.com/magazine/story/2014/10...   \n",
       "4   politifact1019  https://web.archive.org/web/20050322064340/htt...   \n",
       "\n",
       "                                               title  \\\n",
       "0  hr1025  103rd congress 19931994 brady handgun ...   \n",
       "1  us senate us senate roll call votes 111th cong...   \n",
       "2                     trump on prejean same as obama   \n",
       "3                 if democrats lose blame these guys   \n",
       "4  financial rescue nears gdp as pledges top 128 ...   \n",
       "\n",
       "                                           tweet_ids  Type  \n",
       "0  133032062784503808\\t133181989758050305\\t133332...     0  \n",
       "1  1019328994607550465\\t1019329029470674947\\t1019...     0  \n",
       "2         1775216045\\t1782107126\\t201096853821997058     0  \n",
       "3  29528333439\\t193887286084120577\\t2569398917478...     0  \n",
       "4  1019328994607550465\\t1019329029470674947\\t1019...     0  "
      ]
     },
     "execution_count": 16,
     "metadata": {},
     "output_type": "execute_result"
    }
   ],
   "source": [
    "# Check\n",
    "data.head()"
   ]
  },
  {
   "cell_type": "code",
   "execution_count": 17,
   "id": "068c5be3",
   "metadata": {},
   "outputs": [
    {
     "data": {
      "text/html": [
       "<div>\n",
       "<style scoped>\n",
       "    .dataframe tbody tr th:only-of-type {\n",
       "        vertical-align: middle;\n",
       "    }\n",
       "\n",
       "    .dataframe tbody tr th {\n",
       "        vertical-align: top;\n",
       "    }\n",
       "\n",
       "    .dataframe thead th {\n",
       "        text-align: right;\n",
       "    }\n",
       "</style>\n",
       "<table border=\"1\" class=\"dataframe\">\n",
       "  <thead>\n",
       "    <tr style=\"text-align: right;\">\n",
       "      <th></th>\n",
       "      <th>news_url</th>\n",
       "      <th>title</th>\n",
       "      <th>tweet_ids</th>\n",
       "      <th>Type</th>\n",
       "    </tr>\n",
       "  </thead>\n",
       "  <tbody>\n",
       "    <tr>\n",
       "      <th>0</th>\n",
       "      <td>http://thomas.loc.gov/cgi-bin/bdquery/z?d103:H...</td>\n",
       "      <td>hr1025  103rd congress 19931994 brady handgun ...</td>\n",
       "      <td>133032062784503808\\t133181989758050305\\t133332...</td>\n",
       "      <td>0</td>\n",
       "    </tr>\n",
       "    <tr>\n",
       "      <th>1</th>\n",
       "      <td>http://www.senate.gov/legislative/LIS/roll_cal...</td>\n",
       "      <td>us senate us senate roll call votes 111th cong...</td>\n",
       "      <td>1019328994607550465\\t1019329029470674947\\t1019...</td>\n",
       "      <td>0</td>\n",
       "    </tr>\n",
       "    <tr>\n",
       "      <th>2</th>\n",
       "      <td>http://www.politico.com/news/stories/0509/2241...</td>\n",
       "      <td>trump on prejean same as obama</td>\n",
       "      <td>1775216045\\t1782107126\\t201096853821997058</td>\n",
       "      <td>0</td>\n",
       "    </tr>\n",
       "    <tr>\n",
       "      <th>3</th>\n",
       "      <td>http://www.politico.com/magazine/story/2014/10...</td>\n",
       "      <td>if democrats lose blame these guys</td>\n",
       "      <td>29528333439\\t193887286084120577\\t2569398917478...</td>\n",
       "      <td>0</td>\n",
       "    </tr>\n",
       "    <tr>\n",
       "      <th>4</th>\n",
       "      <td>https://web.archive.org/web/20050322064340/htt...</td>\n",
       "      <td>financial rescue nears gdp as pledges top 128 ...</td>\n",
       "      <td>1019328994607550465\\t1019329029470674947\\t1019...</td>\n",
       "      <td>0</td>\n",
       "    </tr>\n",
       "  </tbody>\n",
       "</table>\n",
       "</div>"
      ],
      "text/plain": [
       "                                            news_url  \\\n",
       "0  http://thomas.loc.gov/cgi-bin/bdquery/z?d103:H...   \n",
       "1  http://www.senate.gov/legislative/LIS/roll_cal...   \n",
       "2  http://www.politico.com/news/stories/0509/2241...   \n",
       "3  http://www.politico.com/magazine/story/2014/10...   \n",
       "4  https://web.archive.org/web/20050322064340/htt...   \n",
       "\n",
       "                                               title  \\\n",
       "0  hr1025  103rd congress 19931994 brady handgun ...   \n",
       "1  us senate us senate roll call votes 111th cong...   \n",
       "2                     trump on prejean same as obama   \n",
       "3                 if democrats lose blame these guys   \n",
       "4  financial rescue nears gdp as pledges top 128 ...   \n",
       "\n",
       "                                           tweet_ids  Type  \n",
       "0  133032062784503808\\t133181989758050305\\t133332...     0  \n",
       "1  1019328994607550465\\t1019329029470674947\\t1019...     0  \n",
       "2         1775216045\\t1782107126\\t201096853821997058     0  \n",
       "3  29528333439\\t193887286084120577\\t2569398917478...     0  \n",
       "4  1019328994607550465\\t1019329029470674947\\t1019...     0  "
      ]
     },
     "execution_count": 17,
     "metadata": {},
     "output_type": "execute_result"
    }
   ],
   "source": [
    "# Removing the id (is of no use since is unique)\n",
    "data.drop([\"id\"],axis=1,inplace=True)\n",
    "data.head()"
   ]
  },
  {
   "cell_type": "code",
   "execution_count": 18,
   "id": "4f5ff739",
   "metadata": {},
   "outputs": [
    {
     "name": "stdout",
     "output_type": "stream",
     "text": [
      "Type\n",
      "0    624\n",
      "1    432\n",
      "Name: title, dtype: int64\n"
     ]
    },
    {
     "data": {
      "image/png": "[encoded data removed]",
      "text/plain": [
       "<Figure size 432x288 with 1 Axes>"
      ]
     },
     "metadata": {
      "needs_background": "light"
     },
     "output_type": "display_data"
    }
   ],
   "source": [
    "# How many fake and real articles?\n",
    "print(data.groupby(['Type'])['title'].count())\n",
    "data.groupby(['Type'])['title'].count().plot(kind=\"bar\")\n",
    "plt.show()"
   ]
  },
  {
   "cell_type": "code",
   "execution_count": 19,
   "id": "0f702f79",
   "metadata": {},
   "outputs": [],
   "source": [
    "data['Type'] = data['Type'].astype('category').cat.codes  # Convert type to numeric\n",
    "\n"
   ]
  },
  {
   "cell_type": "code",
   "execution_count": 35,
   "id": "8188b684",
   "metadata": {},
   "outputs": [
    {
     "data": {
      "text/plain": [
       "'washington post breaking news world us dc news  analysis'"
      ]
     },
     "execution_count": 35,
     "metadata": {},
     "output_type": "execute_result"
    }
   ],
   "source": [
    "unique_values = data['title'].value_counts()[data['title'].value_counts() == 1]\n",
    "first_unique_value = unique_values.index[0] if not unique_values.empty else None\n",
    "\n",
    "first_unique_value"
   ]
  },
  {
   "cell_type": "code",
   "execution_count": 20,
   "id": "3a925512",
   "metadata": {},
   "outputs": [
    {
     "data": {
      "text/plain": [
       "news_url     object\n",
       "title        object\n",
       "tweet_ids    object\n",
       "Type           int8\n",
       "dtype: object"
      ]
     },
     "execution_count": 20,
     "metadata": {},
     "output_type": "execute_result"
    }
   ],
   "source": [
    "#check the dtypes\n",
    "\n",
    "data.dtypes"
   ]
  },
  {
   "cell_type": "code",
   "execution_count": 21,
   "id": "3c78e825",
   "metadata": {},
   "outputs": [],
   "source": [
    "# Text preprocessing (tokenization)\n",
    "tokenizer = Tokenizer(num_words=10000, oov_token=\"<OOV>\")\n",
    "tokenizer.fit_on_texts(data['title'])\n",
    "sequences = tokenizer.texts_to_sequences(data['title'])\n",
    "padded_sequences = pad_sequences(sequences, maxlen=100, padding='post')\n",
    "\n",
    "# User feature engineering (simple example: extract count of tweet_ids)\n",
    "data['tweet_count'] = data['tweet_ids'].apply(lambda x: len(str(x).split(',')))\n"
   ]
  },
  {
   "cell_type": "code",
   "execution_count": 22,
   "id": "13e6b2f9",
   "metadata": {},
   "outputs": [],
   "source": [
    "# Combine textual and user features\n",
    "X_text = padded_sequences\n",
    "X_user = data[['tweet_count']].values\n",
    "X = np.hstack((X_text, X_user))  # Combine features\n",
    "y = data['Type'].values\n"
   ]
  },
  {
   "cell_type": "code",
   "execution_count": 23,
   "id": "67f59344",
   "metadata": {},
   "outputs": [],
   "source": [
    "# Handle class imbalance with SMOTE\n",
    "smote = SMOTE(random_state=42)\n",
    "X_resampled, y_resampled = smote.fit_resample(X, y)\n",
    "\n",
    "# Train-test split\n",
    "X_train, X_test, y_train, y_test = train_test_split(X_resampled, y_resampled, test_size=0.2, random_state=42)"
   ]
  },
  {
   "cell_type": "code",
   "execution_count": 24,
   "id": "8d138e77",
   "metadata": {},
   "outputs": [],
   "source": [
    "# Define LSTM and CNN model\n",
    "input_text = Input(shape=(100,))\n",
    "embedding = Embedding(input_dim=10000, output_dim=128, input_length=100)(input_text)\n",
    "lstm = LSTM(64, return_sequences=True)(embedding)\n",
    "cnn = Conv1D(64, kernel_size=3, activation='relu')(lstm)\n",
    "pooling = GlobalMaxPooling1D()(cnn)\n",
    "dense_text = Dense(64, activation='relu')(pooling)\n",
    "\n",
    "input_user = Input(shape=(1,))\n",
    "dense_user = Dense(16, activation='relu')(input_user)\n"
   ]
  },
  {
   "cell_type": "code",
   "execution_count": 30,
   "id": "f5ac0d4f",
   "metadata": {},
   "outputs": [],
   "source": [
    "def predict(news_title, tweet_count):\n",
    "    # Preprocess the input text\n",
    "    sequences = tokenizer.texts_to_sequences([news_title])\n",
    "    padded_sequence = pad_sequences(sequences, maxlen=100, padding=\"post\")\n",
    "\n",
    "    # Extract features using the LSTM-CNN model\n",
    "    lstm_cnn_features = lstm_cnn_model.predict([padded_sequence, np.array([tweet_count])])\n",
    "\n",
    "    # Debug: Print the shape of LSTM-CNN features\n",
    "    print(f\"LSTM-CNN Features Shape: {lstm_cnn_features.shape}\")\n",
    "\n",
    "    # Ensure the output has the correct shape for RandomForestClassifier\n",
    "    if lstm_cnn_features.shape[1] != 80:\n",
    "        print(\"Warning: Feature mismatch! Reshaping the output.\")\n",
    "        # Reshape to have 80 features (if needed)\n",
    "        lstm_cnn_features = lstm_cnn_features.reshape(1, 80)  # Adjust this to your model's output\n",
    "\n",
    "    # Debug: Print the shape after reshaping (if needed)\n",
    "    print(f\"Reshaped Features Shape: {lstm_cnn_features.shape}\")\n",
    "\n",
    "    # Make predictions using the Random Forest model\n",
    "    prediction = rf_model.predict(lstm_cnn_features)\n",
    "\n",
    "    return \"Fake News\" if prediction[0] == 1 else \"Real News\"\n"
   ]
  },
  {
   "cell_type": "code",
   "execution_count": 25,
   "id": "42ba69ed",
   "metadata": {},
   "outputs": [
    {
     "name": "stdout",
     "output_type": "stream",
     "text": [
      "Epoch 1/10\n",
      "\u001b[1m25/25\u001b[0m \u001b[32m━━━━━━━━━━━━━━━━━━━━\u001b[0m\u001b[37m\u001b[0m \u001b[1m3s\u001b[0m 54ms/step - accuracy: 0.4697 - loss: 0.7067 - val_accuracy: 0.5500 - val_loss: 0.6906\n",
      "Epoch 2/10\n",
      "\u001b[1m25/25\u001b[0m \u001b[32m━━━━━━━━━━━━━━━━━━━━\u001b[0m\u001b[37m\u001b[0m \u001b[1m1s\u001b[0m 40ms/step - accuracy: 0.5811 - loss: 0.6842 - val_accuracy: 0.7700 - val_loss: 0.6050\n",
      "Epoch 3/10\n",
      "\u001b[1m25/25\u001b[0m \u001b[32m━━━━━━━━━━━━━━━━━━━━\u001b[0m\u001b[37m\u001b[0m \u001b[1m1s\u001b[0m 40ms/step - accuracy: 0.8476 - loss: 0.5772 - val_accuracy: 0.7900 - val_loss: 0.5508\n",
      "Epoch 4/10\n",
      "\u001b[1m25/25\u001b[0m \u001b[32m━━━━━━━━━━━━━━━━━━━━\u001b[0m\u001b[37m\u001b[0m \u001b[1m1s\u001b[0m 38ms/step - accuracy: 0.9596 - loss: 0.2001 - val_accuracy: 0.8100 - val_loss: 0.5849\n",
      "Epoch 5/10\n",
      "\u001b[1m25/25\u001b[0m \u001b[32m━━━━━━━━━━━━━━━━━━━━\u001b[0m\u001b[37m\u001b[0m \u001b[1m1s\u001b[0m 39ms/step - accuracy: 0.9476 - loss: 0.1938 - val_accuracy: 0.7950 - val_loss: 0.5380\n",
      "Epoch 6/10\n",
      "\u001b[1m25/25\u001b[0m \u001b[32m━━━━━━━━━━━━━━━━━━━━\u001b[0m\u001b[37m\u001b[0m \u001b[1m1s\u001b[0m 40ms/step - accuracy: 0.9789 - loss: 0.0957 - val_accuracy: 0.7900 - val_loss: 0.6952\n",
      "Epoch 7/10\n",
      "\u001b[1m25/25\u001b[0m \u001b[32m━━━━━━━━━━━━━━━━━━━━\u001b[0m\u001b[37m\u001b[0m \u001b[1m1s\u001b[0m 39ms/step - accuracy: 0.9884 - loss: 0.0429 - val_accuracy: 0.7900 - val_loss: 0.8093\n",
      "Epoch 8/10\n",
      "\u001b[1m25/25\u001b[0m \u001b[32m━━━━━━━━━━━━━━━━━━━━\u001b[0m\u001b[37m\u001b[0m \u001b[1m1s\u001b[0m 39ms/step - accuracy: 0.9904 - loss: 0.0439 - val_accuracy: 0.7950 - val_loss: 0.8909\n",
      "Epoch 9/10\n",
      "\u001b[1m25/25\u001b[0m \u001b[32m━━━━━━━━━━━━━━━━━━━━\u001b[0m\u001b[37m\u001b[0m \u001b[1m1s\u001b[0m 46ms/step - accuracy: 0.9891 - loss: 0.0313 - val_accuracy: 0.7950 - val_loss: 0.9907\n",
      "Epoch 10/10\n",
      "\u001b[1m25/25\u001b[0m \u001b[32m━━━━━━━━━━━━━━━━━━━━\u001b[0m\u001b[37m\u001b[0m \u001b[1m1s\u001b[0m 50ms/step - accuracy: 0.9988 - loss: 0.0180 - val_accuracy: 0.7950 - val_loss: 1.1171\n",
      "\u001b[1m32/32\u001b[0m \u001b[32m━━━━━━━━━━━━━━━━━━━━\u001b[0m\u001b[37m\u001b[0m \u001b[1m1s\u001b[0m 19ms/step\n",
      "\u001b[1m8/8\u001b[0m \u001b[32m━━━━━━━━━━━━━━━━━━━━\u001b[0m\u001b[37m\u001b[0m \u001b[1m0s\u001b[0m 16ms/step\n",
      "              precision    recall  f1-score   support\n",
      "\n",
      "           0       0.86      0.74      0.80       128\n",
      "           1       0.76      0.88      0.82       122\n",
      "\n",
      "    accuracy                           0.81       250\n",
      "   macro avg       0.81      0.81      0.81       250\n",
      "weighted avg       0.82      0.81      0.81       250\n",
      "\n"
     ]
    }
   ],
   "source": [
    "# Combine text and user features\n",
    "combined = Concatenate()([dense_text, dense_user])\n",
    "dropout = Dropout(0.5)(combined)\n",
    "final_dense = Dense(32, activation='relu')(dropout)\n",
    "\n",
    "# Output layer\n",
    "output = Dense(1, activation='sigmoid')(final_dense)\n",
    "\n",
    "# Create the model\n",
    "model = Model(inputs=[input_text, input_user], outputs=output)\n",
    "model.compile(optimizer='adam', loss='binary_crossentropy', metrics=['accuracy'])\n",
    "\n",
    "# Train the model\n",
    "model.fit([X_train[:, :-1], X_train[:, -1]], y_train, epochs=10, batch_size=32, validation_split=0.2)\n",
    "\n",
    "# Extract features from trained LSTM+CNN for Random Forest\n",
    "intermediate_model = Model(inputs=model.input, outputs=combined)\n",
    "X_train_features = intermediate_model.predict([X_train[:, :-1], X_train[:, -1]])\n",
    "X_test_features = intermediate_model.predict([X_test[:, :-1], X_test[:, -1]])\n",
    "\n",
    "# Train Random Forest on extracted features\n",
    "rf = RandomForestClassifier(n_estimators=100, random_state=42)\n",
    "rf.fit(X_train_features, y_train)\n",
    "\n",
    "# Evaluate the model\n",
    "y_pred = rf.predict(X_test_features)\n",
    "print(classification_report(y_test, y_pred))"
   ]
  },
  {
   "cell_type": "code",
   "execution_count": 26,
   "id": "8db0ea3b",
   "metadata": {},
   "outputs": [
    {
     "name": "stdout",
     "output_type": "stream",
     "text": [
      "Classification Report:\n",
      "              precision    recall  f1-score   support\n",
      "\n",
      "           0       0.86      0.74      0.80       128\n",
      "           1       0.76      0.88      0.82       122\n",
      "\n",
      "    accuracy                           0.81       250\n",
      "   macro avg       0.81      0.81      0.81       250\n",
      "weighted avg       0.82      0.81      0.81       250\n",
      "\n",
      "Confusion Matrix:\n",
      "[[ 95  33]\n",
      " [ 15 107]]\n",
      "Metrics:\n",
      "Accuracy: 0.8080\n",
      "Precision: 0.7643\n",
      "Recall: 0.8770\n",
      "F1 Score: 0.8168\n"
     ]
    }
   ],
   "source": [
    "\n",
    "# Calculate evaluation metrics\n",
    "accuracy = accuracy_score(y_test, y_pred)\n",
    "precision = precision_score(y_test, y_pred)\n",
    "recall = recall_score(y_test, y_pred)\n",
    "f1 = f1_score(y_test, y_pred)\n",
    "conf_matrix = confusion_matrix(y_test, y_pred)\n",
    "\n",
    "# Print the results\n",
    "print(\"Classification Report:\")\n",
    "print(classification_report(y_test, y_pred))\n",
    "\n",
    "print(\"Confusion Matrix:\")\n",
    "print(conf_matrix)\n",
    "\n",
    "print(\"Metrics:\")\n",
    "print(f\"Accuracy: {accuracy:.4f}\")\n",
    "print(f\"Precision: {precision:.4f}\")\n",
    "print(f\"Recall: {recall:.4f}\")\n",
    "print(f\"F1 Score: {f1:.4f}\")"
   ]
  },
  {
   "cell_type": "code",
   "execution_count": 27,
   "id": "de36cf26",
   "metadata": {},
   "outputs": [
    {
     "name": "stderr",
     "output_type": "stream",
     "text": [
      "WARNING:absl:You are saving your model as an HDF5 file via `model.save()` or `keras.saving.save_model(model)`. This file format is considered legacy. We recommend using instead the native Keras format, e.g. `model.save('my_model.keras')` or `keras.saving.save_model(model, 'my_model.keras')`. \n"
     ]
    },
    {
     "name": "stdout",
     "output_type": "stream",
     "text": [
      "Model saved as lstm_cnn_model.h5\n"
     ]
    }
   ],
   "source": [
    "model.save(\"lstm_cnn_model.h5\")\n",
    "print(\"Model saved as lstm_cnn_model.h5\")"
   ]
  },
  {
   "cell_type": "code",
   "execution_count": 28,
   "id": "36956c52",
   "metadata": {},
   "outputs": [],
   "source": [
    "with open(\"tokenizer.pkl\", \"wb\") as f:\n",
    "    pickle.dump(tokenizer, f)"
   ]
  },
  {
   "cell_type": "code",
   "execution_count": 29,
   "id": "d4b509f9",
   "metadata": {},
   "outputs": [],
   "source": [
    "\n",
    "with open(\"rf.pkl\",'wb') as file:\n",
    "    pickle.dump(rf, file)"
   ]
  },
  {
   "cell_type": "code",
   "execution_count": 37,
   "id": "fb0ba012",
   "metadata": {},
   "outputs": [
    {
     "name": "stderr",
     "output_type": "stream",
     "text": [
      "WARNING:absl:Compiled the loaded model, but the compiled metrics have yet to be built. `model.compile_metrics` will be empty until you train or evaluate the model.\n"
     ]
    }
   ],
   "source": [
    "from tensorflow.keras.models import load_model\n",
    "\n",
    "# Load the saved model\n",
    "lstm_cnn_model = load_model(\"lstm_cnn_model.h5\")\n"
   ]
  },
  {
   "cell_type": "code",
   "execution_count": 39,
   "id": "83fcfb17",
   "metadata": {},
   "outputs": [
    {
     "name": "stderr",
     "output_type": "stream",
     "text": [
      "WARNING:absl:Compiled the loaded model, but the compiled metrics have yet to be built. `model.compile_metrics` will be empty until you train or evaluate the model.\n"
     ]
    },
    {
     "name": "stdout",
     "output_type": "stream",
     "text": [
      "\u001b[1m1/1\u001b[0m \u001b[32m━━━━━━━━━━━━━━━━━━━━\u001b[0m\u001b[37m\u001b[0m \u001b[1m0s\u001b[0m 195ms/step\n",
      "LSTM-CNN Features Shape: (1, 1)\n"
     ]
    }
   ],
   "source": [
    "from tensorflow.keras.models import load_model\n",
    "import pickle\n",
    "import numpy as np\n",
    "from tensorflow.keras.preprocessing.sequence import pad_sequences\n",
    "\n",
    "# Load the saved LSTM-CNN model\n",
    "lstm_cnn_model = load_model(\"lstm_cnn_model.h5\")\n",
    "\n",
    "# Load the saved tokenizer\n",
    "with open(\"tokenizer.pkl\", \"rb\") as f:\n",
    "    tokenizer = pickle.load(f)\n",
    "\n",
    "# Sample inputs for prediction\n",
    "news_title = \"Breaking news: Major event happening right now\"\n",
    "tweet_count = 50\n",
    "\n",
    "# Tokenize and preprocess the text input\n",
    "sequences = tokenizer.texts_to_sequences([news_title])\n",
    "padded_sequence = pad_sequences(sequences, maxlen=100, padding='post')\n",
    "\n",
    "# Get features from the LSTM-CNN model\n",
    "lstm_cnn_features = lstm_cnn_model.predict([padded_sequence, np.array([tweet_count])])\n",
    "print(f\"LSTM-CNN Features Shape: {lstm_cnn_features.shape}\")\n"
   ]
  },
  {
   "cell_type": "code",
   "execution_count": 42,
   "id": "e167e402",
   "metadata": {},
   "outputs": [],
   "source": [
    "# Adjust the final dense layer to output 80 features\n",
    "final_dense = Dense(80, activation='relu')(dropout)  # Change to 80 features\n"
   ]
  },
  {
   "cell_type": "code",
   "execution_count": 43,
   "id": "5402b329",
   "metadata": {},
   "outputs": [
    {
     "name": "stderr",
     "output_type": "stream",
     "text": [
      "WARNING:absl:Compiled the loaded model, but the compiled metrics have yet to be built. `model.compile_metrics` will be empty until you train or evaluate the model.\n"
     ]
    },
    {
     "name": "stdout",
     "output_type": "stream",
     "text": [
      "LSTM-CNN Model loaded.\n",
      "Random Forest Model loaded.\n"
     ]
    }
   ],
   "source": [
    "from tensorflow.keras.models import load_model\n",
    "import pickle\n",
    "\n",
    "# Load the LSTM-CNN model\n",
    "lstm_cnn_model = load_model(\"lstm_cnn_model.h5\")\n",
    "print(\"LSTM-CNN Model loaded.\")\n",
    "\n",
    "# Load the Random Forest model\n",
    "with open(\"rf.pkl\", \"rb\") as f:\n",
    "    rf_model = pickle.load(f)\n",
    "print(\"Random Forest Model loaded.\")\n"
   ]
  },
  {
   "cell_type": "code",
   "execution_count": 44,
   "id": "838e971c",
   "metadata": {},
   "outputs": [
    {
     "name": "stdout",
     "output_type": "stream",
     "text": [
      "\u001b[1m1/1\u001b[0m \u001b[32m━━━━━━━━━━━━━━━━━━━━\u001b[0m\u001b[37m\u001b[0m \u001b[1m0s\u001b[0m 210ms/step\n",
      "LSTM-CNN Features Shape: (1, 1)\n"
     ]
    }
   ],
   "source": [
    "# Example inputs for prediction\n",
    "news_title = \"Breaking news: Major event happening right now\"\n",
    "tweet_count = 50\n",
    "\n",
    "# Tokenize and preprocess the text input\n",
    "sequences = tokenizer.texts_to_sequences([news_title])\n",
    "padded_sequence = pad_sequences(sequences, maxlen=100, padding='post')\n",
    "\n",
    "# Get features from the LSTM-CNN model\n",
    "lstm_cnn_features = lstm_cnn_model.predict([padded_sequence, np.array([tweet_count])])\n",
    "\n",
    "# Print the LSTM-CNN features shape for debugging\n",
    "print(f\"LSTM-CNN Features Shape: {lstm_cnn_features.shape}\")\n"
   ]
  },
  {
   "cell_type": "code",
   "execution_count": 46,
   "id": "64684f3e",
   "metadata": {},
   "outputs": [],
   "source": [
    "# Final dense layer with 80 units\n",
    "final_dense = Dense(80, activation='relu')(dropout)\n",
    "\n",
    "# Output layer\n",
    "output = Dense(1, activation='sigmoid')(final_dense)\n",
    "\n",
    "# Create the model\n",
    "model = Model(inputs=[input_text, input_user], outputs=output)\n",
    "model.compile(optimizer='adam', loss='binary_crossentropy', metrics=['accuracy'])\n"
   ]
  },
  {
   "cell_type": "code",
   "execution_count": 47,
   "id": "74a6e257",
   "metadata": {},
   "outputs": [
    {
     "name": "stdout",
     "output_type": "stream",
     "text": [
      "Epoch 1/10\n",
      "\u001b[1m25/25\u001b[0m \u001b[32m━━━━━━━━━━━━━━━━━━━━\u001b[0m\u001b[37m\u001b[0m \u001b[1m4s\u001b[0m 53ms/step - accuracy: 0.8703 - loss: 0.2851 - val_accuracy: 0.7950 - val_loss: 1.2480\n",
      "Epoch 2/10\n",
      "\u001b[1m25/25\u001b[0m \u001b[32m━━━━━━━━━━━━━━━━━━━━\u001b[0m\u001b[37m\u001b[0m \u001b[1m1s\u001b[0m 40ms/step - accuracy: 0.9943 - loss: 0.0296 - val_accuracy: 0.8050 - val_loss: 1.3239\n",
      "Epoch 3/10\n",
      "\u001b[1m25/25\u001b[0m \u001b[32m━━━━━━━━━━━━━━━━━━━━\u001b[0m\u001b[37m\u001b[0m \u001b[1m1s\u001b[0m 40ms/step - accuracy: 0.9966 - loss: 0.0106 - val_accuracy: 0.8000 - val_loss: 1.6225\n",
      "Epoch 4/10\n",
      "\u001b[1m25/25\u001b[0m \u001b[32m━━━━━━━━━━━━━━━━━━━━\u001b[0m\u001b[37m\u001b[0m \u001b[1m1s\u001b[0m 40ms/step - accuracy: 0.9983 - loss: 0.0075 - val_accuracy: 0.7900 - val_loss: 1.9259\n",
      "Epoch 5/10\n",
      "\u001b[1m25/25\u001b[0m \u001b[32m━━━━━━━━━━━━━━━━━━━━\u001b[0m\u001b[37m\u001b[0m \u001b[1m1s\u001b[0m 42ms/step - accuracy: 0.9988 - loss: 0.0051 - val_accuracy: 0.7950 - val_loss: 2.1408\n",
      "Epoch 6/10\n",
      "\u001b[1m25/25\u001b[0m \u001b[32m━━━━━━━━━━━━━━━━━━━━\u001b[0m\u001b[37m\u001b[0m \u001b[1m1s\u001b[0m 40ms/step - accuracy: 0.9997 - loss: 0.0023 - val_accuracy: 0.7950 - val_loss: 2.3135\n",
      "Epoch 7/10\n",
      "\u001b[1m25/25\u001b[0m \u001b[32m━━━━━━━━━━━━━━━━━━━━\u001b[0m\u001b[37m\u001b[0m \u001b[1m1s\u001b[0m 40ms/step - accuracy: 0.9996 - loss: 0.0021 - val_accuracy: 0.7950 - val_loss: 2.5148\n",
      "Epoch 8/10\n",
      "\u001b[1m25/25\u001b[0m \u001b[32m━━━━━━━━━━━━━━━━━━━━\u001b[0m\u001b[37m\u001b[0m \u001b[1m1s\u001b[0m 41ms/step - accuracy: 0.9990 - loss: 0.0031 - val_accuracy: 0.8000 - val_loss: 2.5743\n",
      "Epoch 9/10\n",
      "\u001b[1m25/25\u001b[0m \u001b[32m━━━━━━━━━━━━━━━━━━━━\u001b[0m\u001b[37m\u001b[0m \u001b[1m1s\u001b[0m 49ms/step - accuracy: 1.0000 - loss: 0.0018 - val_accuracy: 0.7950 - val_loss: 2.7077\n",
      "Epoch 10/10\n",
      "\u001b[1m25/25\u001b[0m \u001b[32m━━━━━━━━━━━━━━━━━━━━\u001b[0m\u001b[37m\u001b[0m \u001b[1m1s\u001b[0m 52ms/step - accuracy: 0.9999 - loss: 0.0012 - val_accuracy: 0.7950 - val_loss: 2.8743\n"
     ]
    },
    {
     "data": {
      "text/plain": [
       "<keras.src.callbacks.history.History at 0x1fe23e4f070>"
      ]
     },
     "execution_count": 47,
     "metadata": {},
     "output_type": "execute_result"
    }
   ],
   "source": [
    "model.fit([X_train[:, :-1], X_train[:, -1]], y_train, epochs=10, batch_size=32, validation_split=0.2)\n"
   ]
  },
  {
   "cell_type": "code",
   "execution_count": 48,
   "id": "d0f418a6",
   "metadata": {},
   "outputs": [
    {
     "name": "stdout",
     "output_type": "stream",
     "text": [
      "WARNING:tensorflow:6 out of the last 14 calls to <function TensorFlowTrainer.make_predict_function.<locals>.one_step_on_data_distributed at 0x000001FE27548040> triggered tf.function retracing. Tracing is expensive and the excessive number of tracings could be due to (1) creating @tf.function repeatedly in a loop, (2) passing tensors with different shapes, (3) passing Python objects instead of tensors. For (1), please define your @tf.function outside of the loop. For (2), @tf.function has reduce_retracing=True option that can avoid unnecessary retracing. For (3), please refer to https://www.tensorflow.org/guide/function#controlling_retracing and https://www.tensorflow.org/api_docs/python/tf/function for  more details.\n"
     ]
    },
    {
     "name": "stderr",
     "output_type": "stream",
     "text": [
      "WARNING:tensorflow:6 out of the last 14 calls to <function TensorFlowTrainer.make_predict_function.<locals>.one_step_on_data_distributed at 0x000001FE27548040> triggered tf.function retracing. Tracing is expensive and the excessive number of tracings could be due to (1) creating @tf.function repeatedly in a loop, (2) passing tensors with different shapes, (3) passing Python objects instead of tensors. For (1), please define your @tf.function outside of the loop. For (2), @tf.function has reduce_retracing=True option that can avoid unnecessary retracing. For (3), please refer to https://www.tensorflow.org/guide/function#controlling_retracing and https://www.tensorflow.org/api_docs/python/tf/function for  more details.\n"
     ]
    },
    {
     "name": "stdout",
     "output_type": "stream",
     "text": [
      "\u001b[1m32/32\u001b[0m \u001b[32m━━━━━━━━━━━━━━━━━━━━\u001b[0m\u001b[37m\u001b[0m \u001b[1m1s\u001b[0m 16ms/step\n",
      "\u001b[1m8/8\u001b[0m \u001b[32m━━━━━━━━━━━━━━━━━━━━\u001b[0m\u001b[37m\u001b[0m \u001b[1m0s\u001b[0m 15ms/step\n"
     ]
    }
   ],
   "source": [
    "# Extract features from the trained LSTM-CNN model\n",
    "intermediate_model = Model(inputs=model.input, outputs=combined)\n",
    "X_train_features = intermediate_model.predict([X_train[:, :-1], X_train[:, -1]])\n",
    "X_test_features = intermediate_model.predict([X_test[:, :-1], X_test[:, -1]])\n"
   ]
  },
  {
   "cell_type": "code",
   "execution_count": 50,
   "id": "b59687ea",
   "metadata": {},
   "outputs": [],
   "source": [
    "import tensorflow as tf\n",
    "\n",
    "# Use @tf.function to optimize prediction function\n",
    "@tf.function(reduce_retracing=True)\n",
    "def predict_function(inputs):\n",
    "    return model(inputs)\n"
   ]
  },
  {
   "cell_type": "code",
   "execution_count": 51,
   "id": "49706d8c",
   "metadata": {},
   "outputs": [
    {
     "name": "stdout",
     "output_type": "stream",
     "text": [
      "Epoch 1/10\n",
      "\u001b[1m25/25\u001b[0m \u001b[32m━━━━━━━━━━━━━━━━━━━━\u001b[0m\u001b[37m\u001b[0m \u001b[1m1s\u001b[0m 41ms/step - accuracy: 0.9981 - loss: 0.0026 - val_accuracy: 0.7950 - val_loss: 2.4755\n",
      "Epoch 2/10\n",
      "\u001b[1m25/25\u001b[0m \u001b[32m━━━━━━━━━━━━━━━━━━━━\u001b[0m\u001b[37m\u001b[0m \u001b[1m1s\u001b[0m 39ms/step - accuracy: 0.9994 - loss: 0.0023 - val_accuracy: 0.7950 - val_loss: 2.3270\n",
      "Epoch 3/10\n",
      "\u001b[1m25/25\u001b[0m \u001b[32m━━━━━━━━━━━━━━━━━━━━\u001b[0m\u001b[37m\u001b[0m \u001b[1m1s\u001b[0m 40ms/step - accuracy: 0.9988 - loss: 0.0032 - val_accuracy: 0.7950 - val_loss: 2.5182\n",
      "Epoch 4/10\n",
      "\u001b[1m25/25\u001b[0m \u001b[32m━━━━━━━━━━━━━━━━━━━━\u001b[0m\u001b[37m\u001b[0m \u001b[1m1s\u001b[0m 40ms/step - accuracy: 0.9994 - loss: 0.0030 - val_accuracy: 0.7950 - val_loss: 2.7437\n",
      "Epoch 5/10\n",
      "\u001b[1m25/25\u001b[0m \u001b[32m━━━━━━━━━━━━━━━━━━━━\u001b[0m\u001b[37m\u001b[0m \u001b[1m1s\u001b[0m 40ms/step - accuracy: 0.9996 - loss: 0.0017 - val_accuracy: 0.7950 - val_loss: 2.8651\n",
      "Epoch 6/10\n",
      "\u001b[1m25/25\u001b[0m \u001b[32m━━━━━━━━━━━━━━━━━━━━\u001b[0m\u001b[37m\u001b[0m \u001b[1m1s\u001b[0m 43ms/step - accuracy: 0.9993 - loss: 0.0034 - val_accuracy: 0.7950 - val_loss: 2.9537\n",
      "Epoch 7/10\n",
      "\u001b[1m25/25\u001b[0m \u001b[32m━━━━━━━━━━━━━━━━━━━━\u001b[0m\u001b[37m\u001b[0m \u001b[1m1s\u001b[0m 42ms/step - accuracy: 0.9983 - loss: 0.0030 - val_accuracy: 0.7950 - val_loss: 3.0651\n",
      "Epoch 8/10\n",
      "\u001b[1m25/25\u001b[0m \u001b[32m━━━━━━━━━━━━━━━━━━━━\u001b[0m\u001b[37m\u001b[0m \u001b[1m1s\u001b[0m 39ms/step - accuracy: 0.9988 - loss: 0.0024 - val_accuracy: 0.8000 - val_loss: 3.2739\n",
      "Epoch 9/10\n",
      "\u001b[1m25/25\u001b[0m \u001b[32m━━━━━━━━━━━━━━━━━━━━\u001b[0m\u001b[37m\u001b[0m \u001b[1m1s\u001b[0m 41ms/step - accuracy: 0.9990 - loss: 0.0018 - val_accuracy: 0.7950 - val_loss: 3.5372\n",
      "Epoch 10/10\n",
      "\u001b[1m25/25\u001b[0m \u001b[32m━━━━━━━━━━━━━━━━━━━━\u001b[0m\u001b[37m\u001b[0m \u001b[1m1s\u001b[0m 41ms/step - accuracy: 1.0000 - loss: 7.6345e-04 - val_accuracy: 0.7950 - val_loss: 3.8231\n"
     ]
    },
    {
     "data": {
      "text/plain": [
       "<keras.src.callbacks.history.History at 0x1fe27679b20>"
      ]
     },
     "execution_count": 51,
     "metadata": {},
     "output_type": "execute_result"
    }
   ],
   "source": [
    "# Assuming you have the new training data in X_train and y_train\n",
    "model.fit([X_train[:, :-1], X_train[:, -1]], y_train, epochs=10, batch_size=32, validation_split=0.2)\n"
   ]
  },
  {
   "cell_type": "code",
   "execution_count": 52,
   "id": "c58592bd",
   "metadata": {},
   "outputs": [
    {
     "name": "stderr",
     "output_type": "stream",
     "text": [
      "WARNING:absl:You are saving your model as an HDF5 file via `model.save()` or `keras.saving.save_model(model)`. This file format is considered legacy. We recommend using instead the native Keras format, e.g. `model.save('my_model.keras')` or `keras.saving.save_model(model, 'my_model.keras')`. \n"
     ]
    }
   ],
   "source": [
    "# Save the model\n",
    "model.save(\"lstm_cnn_model.h5\")\n",
    "\n",
    "# Save the tokenizer\n",
    "with open(\"tokenizer.pkl\", \"wb\") as f:\n",
    "    pickle.dump(tokenizer, f)\n"
   ]
  },
  {
   "cell_type": "code",
   "execution_count": 53,
   "id": "f8ab2c71",
   "metadata": {},
   "outputs": [],
   "source": [
    "model.save(\"lstm_cnn_model.keras\")\n"
   ]
  },
  {
   "cell_type": "code",
   "execution_count": 54,
   "id": "5dda689f",
   "metadata": {},
   "outputs": [],
   "source": [
    "from tensorflow.keras.models import load_model\n",
    "\n",
    "# Load the saved model\n",
    "model = load_model(\"lstm_cnn_model.keras\")\n"
   ]
  },
  {
   "cell_type": "code",
   "execution_count": 55,
   "id": "975dc424",
   "metadata": {},
   "outputs": [
    {
     "name": "stdout",
     "output_type": "stream",
     "text": [
      "\u001b[1m8/8\u001b[0m \u001b[32m━━━━━━━━━━━━━━━━━━━━\u001b[0m\u001b[37m\u001b[0m \u001b[1m1s\u001b[0m 16ms/step - accuracy: 0.8118 - loss: 3.6134\n",
      "Test Accuracy: 0.8159999847412109\n"
     ]
    }
   ],
   "source": [
    "loss, accuracy = model.evaluate([X_test[:, :-1], X_test[:, -1]], y_test)\n",
    "print(f\"Test Accuracy: {accuracy}\")\n",
    "\n"
   ]
  },
  {
   "cell_type": "code",
   "execution_count": 56,
   "id": "9467b660",
   "metadata": {},
   "outputs": [
    {
     "name": "stdout",
     "output_type": "stream",
     "text": [
      "\u001b[1m1/1\u001b[0m \u001b[32m━━━━━━━━━━━━━━━━━━━━\u001b[0m\u001b[37m\u001b[0m \u001b[1m0s\u001b[0m 235ms/step\n",
      "Prediction: [[1.]]\n"
     ]
    }
   ],
   "source": [
    "new_input_text = \"Breaking news: Major event happening right now\"\n",
    "new_input_tweet_count = 50\n",
    "\n",
    "# Tokenize and pad the text input\n",
    "sequences = tokenizer.texts_to_sequences([new_input_text])\n",
    "padded_sequence = pad_sequences(sequences, maxlen=100, padding=\"post\")\n",
    "\n",
    "# Convert tweet count to a numpy array\n",
    "tweet_count_array = np.array([new_input_tweet_count])\n",
    "\n",
    "# Make prediction using the model\n",
    "prediction = model.predict([padded_sequence, tweet_count_array])\n",
    "\n",
    "# Output the prediction\n",
    "print(f\"Prediction: {prediction}\")\n"
   ]
  },
  {
   "cell_type": "code",
   "execution_count": null,
   "id": "49efe078",
   "metadata": {},
   "outputs": [],
   "source": []
  }
 ],
 "metadata": {
  "kernelspec": {
   "display_name": "Python 3 (ipykernel)",
   "language": "python",
   "name": "python3"
  },
  "language_info": {
   "codemirror_mode": {
    "name": "ipython",
    "version": 3
   },
   "file_extension": ".py",
   "mimetype": "text/x-python",
   "name": "python",
   "nbconvert_exporter": "python",
   "pygments_lexer": "ipython3",
   "version": "3.9.12"
  }
 },
 "nbformat": 4,
 "nbformat_minor": 5
}
